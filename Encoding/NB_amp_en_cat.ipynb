{
 "cells": [
  {
   "cell_type": "code",
   "execution_count": 1,
   "id": "1a4623f5",
   "metadata": {},
   "outputs": [],
   "source": [
    "import pennylane as qml\n",
    "from pennylane import numpy as np\n",
    "from torchvision import datasets, transforms\n",
    "from torch.utils.data import DataLoader\n",
    "import cv2\n",
    "import random\n",
    "import os\n",
    "import pickle\n",
    "from tqdm import tqdm\n",
    "import matplotlib.pyplot as plt\n",
    "import os\n",
    "import random\n",
    "from PIL import Image"
   ]
  },
  {
   "cell_type": "code",
   "execution_count": 2,
   "id": "c58e3734",
   "metadata": {},
   "outputs": [],
   "source": [
    "dataset = \"cat_v1\"\n",
    "categories = [\"Bengal\", \"Domestic_Shorthair\", \"Maine_Coon\", \"Ragdoll\", \"Siamese\"]\n",
    "num_images = 500"
   ]
  },
  {
   "cell_type": "code",
   "execution_count": 3,
   "id": "0b64b92f",
   "metadata": {},
   "outputs": [],
   "source": [
    "image_size = (256, 256) "
   ]
  },
  {
   "cell_type": "code",
   "execution_count": 4,
   "id": "e3ad5bb7",
   "metadata": {},
   "outputs": [],
   "source": [
    "def nearest_power_of_2(n):\n",
    "    return 2 ** int(np.ceil(np.log2(n)))"
   ]
  },
  {
   "cell_type": "code",
   "execution_count": 5,
   "id": "943d712a",
   "metadata": {},
   "outputs": [],
   "source": [
    "for category in categories:\n",
    "    folder_path = os.path.join(dataset, category)\n",
    "    images = os.listdir(folder_path)[:num_images] "
   ]
  },
  {
   "cell_type": "code",
   "execution_count": 6,
   "id": "80b1a57f",
   "metadata": {},
   "outputs": [],
   "source": [
    "quantum_encoded_images = []"
   ]
  },
  {
   "cell_type": "code",
   "execution_count": 7,
   "id": "34ccc10a",
   "metadata": {},
   "outputs": [
    {
     "name": "stderr",
     "output_type": "stream",
     "text": [
      "Encoding Bengal images: 100%|██████████| 177/177 [00:04<00:00, 38.62it/s]\n",
      "Encoding Domestic_Shorthair images: 100%|██████████| 170/170 [00:05<00:00, 30.20it/s]\n",
      "Encoding Maine_Coon images: 100%|██████████| 191/191 [00:05<00:00, 35.34it/s]\n",
      "Encoding Ragdoll images: 100%|██████████| 207/207 [00:09<00:00, 21.94it/s]\n",
      "Encoding Siamese images: 100%|██████████| 208/208 [00:11<00:00, 17.68it/s]\n"
     ]
    }
   ],
   "source": [
    "for category in categories:\n",
    "    folder_path = os.path.join(dataset, category)\n",
    "    image_paths = [os.path.join(folder_path, img) for img in images]\n",
    "    images = os.listdir(folder_path)[:num_images] \n",
    "\n",
    "    for img_file in tqdm(images, desc=f\"Encoding {category} images\"):\n",
    "        try:\n",
    "            \n",
    "            img_path = os.path.join(folder_path, img_file)\n",
    "            image = cv2.imread(img_path, cv2.IMREAD_GRAYSCALE)\n",
    "            image = cv2.resize(image, image_size)  \n",
    "            image = image.flatten() / 256.0 \n",
    "\n",
    "            target_size = nearest_power_of_2(len(image)) \n",
    "            num_qubits = int(np.log2(target_size))  \n",
    "\n",
    "\n",
    "            dev = qml.device(\"default.qubit\", wires=num_qubits)\n",
    "\n",
    "            @qml.qnode(dev)\n",
    "            def quantum_image_encoding(image):\n",
    "                qml.AmplitudeEmbedding(features=image, wires=range(num_qubits), normalize=True, pad_with=0.0)\n",
    "                return qml.state()\n",
    "\n",
    "            padded_image = np.pad(image, (0, target_size - len(image)), 'constant')\n",
    "\n",
    "            quantum_state = quantum_image_encoding(padded_image)\n",
    "            quantum_encoded_images.append((category, img_file, quantum_state))\n",
    "        \n",
    "        except Exception as e:\n",
    "            print(f\"Error processing {img_file}: {e}\")"
   ]
  },
  {
   "cell_type": "code",
   "execution_count": 8,
   "id": "a4966efe",
   "metadata": {},
   "outputs": [],
   "source": [
    "with open(\"quantum_encoded_pet_images.pkl\", \"wb\") as f:\n",
    "    pickle.dump(quantum_encoded_images, f)"
   ]
  },
  {
   "cell_type": "code",
   "execution_count": 9,
   "id": "af05608c",
   "metadata": {},
   "outputs": [
    {
     "name": "stdout",
     "output_type": "stream",
     "text": [
      "Encoding Sucessfull!\n"
     ]
    }
   ],
   "source": [
    "print(\"Encoding Sucessfull!\")"
   ]
  },
  {
   "cell_type": "code",
   "execution_count": 10,
   "id": "449cb50d",
   "metadata": {},
   "outputs": [],
   "source": [
    "with open(\"quantum_encoded_pet_images.pkl\", \"rb\") as f:\n",
    "    loaded_data = pickle.load(f)"
   ]
  },
  {
   "cell_type": "code",
   "execution_count": 13,
   "id": "364a4233",
   "metadata": {},
   "outputs": [
    {
     "name": "stdout",
     "output_type": "stream",
     "text": [
      "\n",
      " Entry 1\n",
      "Category : Domestic_Shorthair\n",
      "Filename : american-shorthair-cat-856159.jpg\n",
      " Quantum State (Size: 65536):\n",
      "[0.0056222 +0.j 0.00610325+0.j 0.00553201+0.j 0.00484051+0.j\n",
      " 0.00402875+0.j 0.00411894+0.j 0.00478038+0.j 0.0036379 +0.j\n",
      " 0.00369803+0.j 0.00481044+0.j]\n",
      "\n",
      " Entry 2\n",
      "Category : Bengal\n",
      "Filename : fullsizeoutput_63f0.jpg\n",
      " Quantum State (Size: 65536):\n",
      "[0.00471666+0.j 0.00469606+0.j 0.00477845+0.j 0.00473726+0.j\n",
      " 0.00473726+0.j 0.00473726+0.j 0.00465487+0.j 0.00469606+0.j\n",
      " 0.00469606+0.j 0.00469606+0.j]\n",
      "\n",
      " Entry 3\n",
      "Category : Ragdoll\n",
      "Filename : 9r7nfja3e7t21.jpg\n",
      " Quantum State (Size: 65536):\n",
      "[0.00140308+0.j 0.00096211+0.j 0.00140308+0.j 0.00112246+0.j\n",
      " 0.00052114+0.j 0.00116255+0.j 0.00068149+0.j 0.00096211+0.j\n",
      " 0.00060132+0.j 0.00104228+0.j]\n",
      "\n",
      " Entry 4\n",
      "Category : Domestic_Shorthair\n",
      "Filename : c8706a9f05a2f298bac780a407d472ef.jpg\n",
      " Quantum State (Size: 65536):\n",
      "[0.00264252+0.j 0.00270327+0.j 0.00258177+0.j 0.00273364+0.j\n",
      " 0.00276402+0.j 0.00273364+0.j 0.00273364+0.j 0.0026729 +0.j\n",
      " 0.00273364+0.j 0.00279439+0.j]\n",
      "\n",
      " Entry 5\n",
      "Category : Domestic_Shorthair\n",
      "Filename : holly-cat.jpeg\n",
      " Quantum State (Size: 65536):\n",
      "[0.00391397+0.j 0.00382433+0.j 0.0040036 +0.j 0.00379446+0.j\n",
      " 0.00388409+0.j 0.00385421+0.j 0.00379446+0.j 0.00391397+0.j\n",
      " 0.00388409+0.j 0.00376458+0.j]\n",
      "\n",
      " Entry 6\n",
      "Category : Ragdoll\n",
      "Filename : b2009f4cc49a8cce25b107627a3e1f4d.jpg\n",
      " Quantum State (Size: 65536):\n",
      "[7.69754776e-05+0.j 1.02633970e-04+0.j 5.13169851e-05+0.j\n",
      " 5.13169851e-05+0.j 7.69754776e-05+0.j 2.30926433e-04+0.j\n",
      " 5.13169851e-04+0.j 1.00068121e-03+0.j 9.23705731e-04+0.j\n",
      " 7.44096284e-04+0.j]\n",
      "\n",
      " Entry 7\n",
      "Category : Bengal\n",
      "Filename : image1_3-3.jpg\n",
      " Quantum State (Size: 65536):\n",
      "[0.00242683+0.j 0.00311268+0.j 0.00480091+0.j 0.00548676+0.j\n",
      " 0.00548676+0.j 0.00369301+0.j 0.00261149+0.j 0.00261149+0.j\n",
      " 0.00258511+0.j 0.00261149+0.j]\n",
      "\n",
      " Entry 8\n",
      "Category : Ragdoll\n",
      "Filename : 90cd56d8ab766c33aa10517008824b65.jpg\n",
      " Quantum State (Size: 65536):\n",
      "[0.0051345 +0.j 0.00520326+0.j 0.00499697+0.j 0.00524911+0.j\n",
      " 0.00527203+0.j 0.00536372+0.j 0.00527203+0.j 0.00508865+0.j\n",
      " 0.00501989+0.j 0.00515742+0.j]\n",
      "\n",
      " Entry 9\n",
      "Category : Maine_Coon\n",
      "Filename : best-cat-food-for-maine-coon.jpg\n",
      " Quantum State (Size: 65536):\n",
      "[0.00434932+0.j 0.00428441+0.j 0.00428441+0.j 0.00431687+0.j\n",
      " 0.00421949+0.j 0.00431687+0.j 0.00428441+0.j 0.00395983+0.j\n",
      " 0.0040572 +0.j 0.00425195+0.j]\n",
      "\n",
      " Entry 10\n",
      "Category : Domestic_Shorthair\n",
      "Filename : 37087816_10216998859910320_332375493129011200_n.jpg\n",
      " Quantum State (Size: 65536):\n",
      "[0.00569523+0.j 0.00569523+0.j 0.00566811+0.j 0.00566811+0.j\n",
      " 0.00569523+0.j 0.00569523+0.j 0.00566811+0.j 0.00566811+0.j\n",
      " 0.00569523+0.j 0.00569523+0.j]\n"
     ]
    }
   ],
   "source": [
    "random_entries = random.sample(loaded_data, 10)\n",
    "for i, (category, filename, quantum_state) in enumerate(random_entries):\n",
    "    print(f\"\\n Entry {i+1}\")\n",
    "    print(f\"Category : {category}\")\n",
    "    print(f\"Filename : {filename}\")\n",
    "    print(f\" Quantum State (Size: {len(quantum_state)}):\")\n",
    "    print(quantum_state[:10])"
   ]
  }
 ],
 "metadata": {
  "kernelspec": {
   "display_name": "Python 3",
   "language": "python",
   "name": "python3"
  },
  "language_info": {
   "codemirror_mode": {
    "name": "ipython",
    "version": 3
   },
   "file_extension": ".py",
   "mimetype": "text/x-python",
   "name": "python",
   "nbconvert_exporter": "python",
   "pygments_lexer": "ipython3",
   "version": "3.13.3"
  }
 },
 "nbformat": 4,
 "nbformat_minor": 5
}
