{
 "cells": [
  {
   "cell_type": "code",
   "execution_count": 1,
   "id": "a06605be",
   "metadata": {},
   "outputs": [],
   "source": [
    "from PIL import Image\n",
    "import numpy as np\n",
    "import pennylane as qml\n",
    "import matplotlib.pyplot as plt"
   ]
  },
  {
   "cell_type": "code",
   "execution_count": 2,
   "id": "c90ee277",
   "metadata": {},
   "outputs": [],
   "source": [
    "img = Image.open(\"eye.png\").convert(\"L\").resize((4, 4))\n",
    "vec = np.array(img).flatten().astype(float)\n",
    "vec /= np.linalg.norm(vec)  \n"
   ]
  },
  {
   "cell_type": "code",
   "execution_count": 3,
   "id": "5592c7db",
   "metadata": {},
   "outputs": [],
   "source": [
    "dev = qml.device(\"default.qubit\", wires=4)"
   ]
  },
  {
   "cell_type": "code",
   "execution_count": 4,
   "id": "51259a82",
   "metadata": {},
   "outputs": [],
   "source": [
    "@qml.qnode(dev)\n",
    "def circuit():\n",
    "    qml.AmplitudeEmbedding(features=vec, wires=range(4), normalize=False)\n",
    "    return qml.state()\n",
    "\n",
    "state = circuit()"
   ]
  },
  {
   "cell_type": "code",
   "execution_count": 5,
   "id": "bf7dced7",
   "metadata": {},
   "outputs": [
    {
     "name": "stdout",
     "output_type": "stream",
     "text": [
      "Quantum state shape: (16,)\n",
      "Quantum state: [0.10070598+0.j 0.16668576+0.j 0.1909941 +0.j 0.12501432+0.j\n",
      " 0.1909941 +0.j 0.36115248+0.j 0.38893344+0.j 0.27433698+0.j\n",
      " 0.2083572 +0.j 0.33684414+0.j 0.44796798+0.j 0.23266554+0.j\n",
      " 0.11459646+0.j 0.1909941 +0.j 0.19446672+0.j 0.13195956+0.j]\n"
     ]
    }
   ],
   "source": [
    "state = np.array(state).flatten()\n",
    "print(\"Quantum state shape:\", state.shape)\n",
    "print(\"Quantum state:\", state)\n"
   ]
  }
 ],
 "metadata": {
  "kernelspec": {
   "display_name": "Python 3",
   "language": "python",
   "name": "python3"
  },
  "language_info": {
   "codemirror_mode": {
    "name": "ipython",
    "version": 3
   },
   "file_extension": ".py",
   "mimetype": "text/x-python",
   "name": "python",
   "nbconvert_exporter": "python",
   "pygments_lexer": "ipython3",
   "version": "3.13.3"
  }
 },
 "nbformat": 4,
 "nbformat_minor": 5
}
