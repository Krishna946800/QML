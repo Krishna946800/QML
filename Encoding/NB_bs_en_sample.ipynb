{
 "cells": [
  {
   "cell_type": "code",
   "execution_count": 1,
   "id": "96c4363a",
   "metadata": {},
   "outputs": [],
   "source": [
    "from PIL import Image\n",
    "import numpy as np\n",
    "import pennylane as qml\n",
    "import matplotlib.pyplot as plt"
   ]
  },
  {
   "cell_type": "code",
   "execution_count": 2,
   "id": "aa14d55d",
   "metadata": {},
   "outputs": [],
   "source": [
    "img = Image.open(\"eye.png\").convert(\"L\").resize((4, 4))\n",
    "img_array = np.array(img)"
   ]
  },
  {
   "cell_type": "code",
   "execution_count": 3,
   "id": "caae13ee",
   "metadata": {},
   "outputs": [
    {
     "data": {
      "image/png": "[encoded data removed]",
      "text/plain": [
       "<Figure size 640x480 with 1 Axes>"
      ]
     },
     "metadata": {},
     "output_type": "display_data"
    }
   ],
   "source": [
    "plt.imshow(img_array, cmap='gray')\n",
    "plt.title(\"4x4 Grayscale Image\")\n",
    "plt.axis('off')\n",
    "plt.show()"
   ]
  },
  {
   "cell_type": "code",
   "execution_count": 4,
   "id": "15ebcd46",
   "metadata": {},
   "outputs": [],
   "source": [
    "binary_img = (img_array > 127).astype(int)"
   ]
  },
  {
   "cell_type": "code",
   "execution_count": 5,
   "id": "19cb7232",
   "metadata": {},
   "outputs": [],
   "source": [
    "binary_vec = binary_img.flatten() "
   ]
  },
  {
   "cell_type": "code",
   "execution_count": 6,
   "id": "b821a987",
   "metadata": {},
   "outputs": [],
   "source": [
    "dev = qml.device(\"default.qubit\", wires=16)"
   ]
  },
  {
   "cell_type": "code",
   "execution_count": 7,
   "id": "27f26b9f",
   "metadata": {},
   "outputs": [],
   "source": [
    "@qml.qnode(dev)\n",
    "def basis_encoded_image(bits):\n",
    "    qml.BasisState(bits, wires=range(16))\n",
    "    return qml.state()"
   ]
  },
  {
   "cell_type": "code",
   "execution_count": 8,
   "id": "b63c1c12",
   "metadata": {},
   "outputs": [],
   "source": [
    "quantum_state = basis_encoded_image(binary_vec)"
   ]
  },
  {
   "cell_type": "code",
   "execution_count": 9,
   "id": "9cc83c9b",
   "metadata": {},
   "outputs": [
    {
     "name": "stdout",
     "output_type": "stream",
     "text": [
      "Quantum state shape: (65536,)\n",
      "Quantum state (non-zero amplitude):\n"
     ]
    }
   ],
   "source": [
    "print(\"Quantum state shape:\", quantum_state.shape)\n",
    "print(\"Quantum state (non-zero amplitude):\")"
   ]
  },
  {
   "cell_type": "code",
   "execution_count": 10,
   "id": "d19c5d9f",
   "metadata": {},
   "outputs": [
    {
     "name": "stdout",
     "output_type": "stream",
     "text": [
      "Index: 32, Amplitude: (1+0j)\n"
     ]
    }
   ],
   "source": [
    "nonzero_index = np.argmax(np.abs(quantum_state))\n",
    "print(f\"Index: {nonzero_index}, Amplitude: {quantum_state[nonzero_index]}\")"
   ]
  }
 ],
 "metadata": {
  "kernelspec": {
   "display_name": "Python 3",
   "language": "python",
   "name": "python3"
  },
  "language_info": {
   "codemirror_mode": {
    "name": "ipython",
    "version": 3
   },
   "file_extension": ".py",
   "mimetype": "text/x-python",
   "name": "python",
   "nbconvert_exporter": "python",
   "pygments_lexer": "ipython3",
   "version": "3.13.3"
  }
 },
 "nbformat": 4,
 "nbformat_minor": 5
}
