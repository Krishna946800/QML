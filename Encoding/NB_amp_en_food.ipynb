{
 "cells": [
  {
   "cell_type": "code",
   "execution_count": 1,
   "id": "b6d80321",
   "metadata": {},
   "outputs": [],
   "source": [
    "import pennylane as qml\n",
    "from pennylane import numpy as np\n",
    "from torchvision import datasets, transforms\n",
    "from torch.utils.data import DataLoader\n",
    "import cv2\n",
    "import random\n",
    "import os\n",
    "import pickle\n",
    "from tqdm import tqdm\n",
    "import matplotlib.pyplot as plt\n",
    "import os\n",
    "import random\n",
    "from PIL import Image"
   ]
  },
  {
   "cell_type": "code",
   "execution_count": 2,
   "id": "84aebabe",
   "metadata": {},
   "outputs": [],
   "source": [
    "def get_category_dict(dataset_path):\n",
    "    categories = sorted([\n",
    "        folder for folder in os.listdir(dataset_path)\n",
    "        if os.path.isdir(os.path.join(dataset_path, folder))\n",
    "    ])\n",
    "    return {category: idx for idx, category in enumerate(categories)}\n"
   ]
  },
  {
   "cell_type": "code",
   "execution_count": 3,
   "id": "8933d613",
   "metadata": {},
   "outputs": [],
   "source": [
    "dataset = \"Food_Classification\"\n",
    "categories = get_category_dict(dataset)\n",
    "num_images = 500\n",
    "image_size = (256, 256) "
   ]
  },
  {
   "cell_type": "code",
   "execution_count": 4,
   "id": "595fc084",
   "metadata": {},
   "outputs": [],
   "source": [
    "def nearest_power_of_2(n):\n",
    "    return 2 ** int(np.ceil(np.log2(n)))"
   ]
  },
  {
   "cell_type": "code",
   "execution_count": 5,
   "id": "5cab16dc",
   "metadata": {},
   "outputs": [],
   "source": [
    "for category in categories:\n",
    "    folder_path = os.path.join(dataset, category)\n",
    "    images = os.listdir(folder_path)[:num_images] \n",
    "\n",
    "quantum_encoded_images = []"
   ]
  },
  {
   "cell_type": "code",
   "execution_count": 6,
   "id": "62804793",
   "metadata": {},
   "outputs": [
    {
     "name": "stderr",
     "output_type": "stream",
     "text": [
      "Encoding burger images: 100%|██████████| 309/309 [00:03<00:00, 80.04it/s] \n",
      "Encoding butter_naan images: 100%|██████████| 329/329 [00:02<00:00, 112.94it/s]\n",
      "Encoding chai images: 100%|██████████| 381/381 [00:05<00:00, 74.55it/s] \n",
      "Encoding chapati images: 100%|██████████| 413/413 [00:03<00:00, 108.70it/s]\n",
      "Encoding chole_bhature images: 100%|██████████| 411/411 [00:05<00:00, 70.91it/s] \n",
      "Encoding dal_makhani images: 100%|██████████| 321/321 [00:03<00:00, 83.75it/s] \n",
      "Encoding dhokla images: 100%|██████████| 289/289 [00:03<00:00, 84.91it/s] \n",
      "Encoding fried_rice images: 100%|██████████| 355/355 [00:07<00:00, 44.80it/s]\n",
      "Encoding idli images: 100%|██████████| 310/310 [00:06<00:00, 51.37it/s] \n",
      "Encoding jalebi images: 100%|██████████| 297/297 [00:03<00:00, 86.44it/s] \n",
      "Encoding kaathi_rolls images: 100%|██████████| 293/293 [00:04<00:00, 66.41it/s]\n",
      "Encoding kadai_paneer images: 100%|██████████| 412/412 [00:07<00:00, 58.06it/s]\n",
      "Encoding kulfi images: 100%|██████████| 237/237 [00:04<00:00, 54.48it/s]\n",
      "Encoding masala_dosa images: 100%|██████████| 311/311 [00:04<00:00, 66.90it/s]\n",
      "Encoding momos images: 100%|██████████| 319/319 [00:03<00:00, 87.42it/s] \n",
      "Encoding paani_puri images: 100%|██████████| 130/130 [00:02<00:00, 64.79it/s]\n",
      "Encoding pakode images: 100%|██████████| 278/278 [00:03<00:00, 92.16it/s] \n",
      "Encoding pav_bhaji images: 100%|██████████| 353/353 [00:06<00:00, 56.24it/s]\n",
      "Encoding pizza images: 100%|██████████| 261/261 [00:04<00:00, 53.84it/s]\n",
      "Encoding samosa images: 100%|██████████| 262/262 [00:04<00:00, 59.42it/s]\n"
     ]
    }
   ],
   "source": [
    "for category in categories:\n",
    "    folder_path = os.path.join(dataset, category)\n",
    "    image_paths = [os.path.join(folder_path, img) for img in images]\n",
    "    images = os.listdir(folder_path)[:num_images] \n",
    "\n",
    "    for img_file in tqdm(images, desc=f\"Encoding {category} images\"):\n",
    "        try:\n",
    "            \n",
    "            img_path = os.path.join(folder_path, img_file)\n",
    "            image = cv2.imread(img_path, cv2.IMREAD_GRAYSCALE)\n",
    "            image = cv2.resize(image, image_size)  \n",
    "            image = image.flatten() / 256.0 \n",
    "\n",
    "            target_size = nearest_power_of_2(len(image)) \n",
    "            num_qubits = int(np.log2(target_size))  \n",
    "\n",
    "\n",
    "            dev = qml.device(\"default.qubit\", wires=num_qubits)\n",
    "\n",
    "            @qml.qnode(dev)\n",
    "            def quantum_image_encoding(image):\n",
    "                qml.AmplitudeEmbedding(features=image, wires=range(num_qubits), normalize=True, pad_with=0.0)\n",
    "                return qml.state()\n",
    "\n",
    "            padded_image = np.pad(image, (0, target_size - len(image)), 'constant')\n",
    "\n",
    "            quantum_state = quantum_image_encoding(padded_image)\n",
    "            quantum_encoded_images.append((category, img_file, quantum_state))\n",
    "        \n",
    "        except Exception as e:\n",
    "            print(f\"Error processing {img_file}: {e}\")\n"
   ]
  },
  {
   "cell_type": "code",
   "execution_count": 7,
   "id": "82660169",
   "metadata": {},
   "outputs": [
    {
     "name": "stdout",
     "output_type": "stream",
     "text": [
      "Encoding Sucessfull!\n"
     ]
    }
   ],
   "source": [
    "with open(\"quantum_encoded_pet_images.pkl\", \"wb\") as f:\n",
    "    pickle.dump(quantum_encoded_images, f)\n",
    "\n",
    "print(\"Encoding Sucessfull!\")"
   ]
  },
  {
   "cell_type": "code",
   "execution_count": 8,
   "id": "06dd6f54",
   "metadata": {},
   "outputs": [],
   "source": [
    "with open(\"quantum_encoded_pet_images.pkl\", \"rb\") as f:\n",
    "    loaded_data = pickle.load(f)"
   ]
  },
  {
   "cell_type": "code",
   "execution_count": 9,
   "id": "ef12f65c",
   "metadata": {},
   "outputs": [
    {
     "name": "stdout",
     "output_type": "stream",
     "text": [
      "\n",
      " Entry 1\n",
      "Category : chai\n",
      "Filename : 011.jpg\n",
      " Quantum State (Size: 65536):\n",
      "[6.63196945e-05+0.j 6.63196945e-05+0.j 6.63196945e-05+0.j\n",
      " 6.63196945e-05+0.j 6.63196945e-05+0.j 6.63196945e-05+0.j\n",
      " 6.63196945e-05+0.j 6.63196945e-05+0.j 6.63196945e-05+0.j\n",
      " 6.63196945e-05+0.j]\n",
      "\n",
      " Entry 2\n",
      "Category : kaathi_rolls\n",
      "Filename : 139.jpg\n",
      " Quantum State (Size: 65536):\n",
      "[0.00471972+0.j 0.00475825+0.j 0.00473898+0.j 0.00475825+0.j\n",
      " 0.00479678+0.j 0.00479678+0.j 0.00483531+0.j 0.00481604+0.j\n",
      " 0.00483531+0.j 0.00487383+0.j]\n",
      "\n",
      " Entry 3\n",
      "Category : masala_dosa\n",
      "Filename : 210.jpg\n",
      " Quantum State (Size: 65536):\n",
      "[0.00280376+0.j 0.00259497+0.j 0.00259497+0.j 0.00256514+0.j\n",
      " 0.002416  +0.j 0.002416  +0.j 0.00235635+0.j 0.0022967 +0.j\n",
      " 0.00223704+0.j 0.00220721+0.j]\n",
      "\n",
      " Entry 4\n",
      "Category : kulfi\n",
      "Filename : 185.jpg\n",
      " Quantum State (Size: 65536):\n",
      "[0.00364213+0.j 0.00392908+0.j 0.00403945+0.j 0.00410567+0.j\n",
      " 0.00417189+0.j 0.00461336+0.j 0.0050769 +0.j 0.00527557+0.j\n",
      " 0.00450299+0.j 0.00240601+0.j]\n",
      "\n",
      " Entry 5\n",
      "Category : dhokla\n",
      "Filename : 150.jpg\n",
      " Quantum State (Size: 65536):\n",
      "[0.00154473+0.j 0.00143031+0.j 0.0014017 +0.j 0.00157334+0.j\n",
      " 0.00197382+0.j 0.00254595+0.j 0.00300364+0.j 0.00334692+0.j\n",
      " 0.00351855+0.j 0.00360437+0.j]\n",
      "\n",
      " Entry 6\n",
      "Category : chai\n",
      "Filename : 251.jpg\n",
      " Quantum State (Size: 65536):\n",
      "[0.00455189+0.j 0.0044725 +0.j 0.00460482+0.j 0.00489593+0.j\n",
      " 0.00481654+0.j 0.00460482+0.j 0.00418139+0.j 0.00381089+0.j\n",
      " 0.00333453+0.j 0.0032022 +0.j]\n",
      "\n",
      " Entry 7\n",
      "Category : pav_bhaji\n",
      "Filename : 057.jpg\n",
      " Quantum State (Size: 65536):\n",
      "[0.00219163+0.j 0.00203281+0.j 0.0021281 +0.j 0.00196929+0.j\n",
      " 0.00260454+0.j 0.00336685+0.j 0.00431973+0.j 0.00466912+0.j\n",
      " 0.0034939 +0.j 0.00276336+0.j]\n",
      "\n",
      " Entry 8\n",
      "Category : kulfi\n",
      "Filename : 105.jpg\n",
      " Quantum State (Size: 65536):\n",
      "[0.00451531+0.j 0.00457271+0.j 0.00464924+0.j 0.00466837+0.j\n",
      " 0.00459184+0.j 0.00461097+0.j 0.00463011+0.j 0.00461097+0.j\n",
      " 0.00466837+0.j 0.00461097+0.j]\n",
      "\n",
      " Entry 9\n",
      "Category : kadai_paneer\n",
      "Filename : 045.jpg\n",
      " Quantum State (Size: 65536):\n",
      "[0.+0.j 0.+0.j 0.+0.j 0.+0.j 0.+0.j 0.+0.j 0.+0.j 0.+0.j 0.+0.j 0.+0.j]\n",
      "\n",
      " Entry 10\n",
      "Category : burger\n",
      "Filename : 240.jpg\n",
      " Quantum State (Size: 65536):\n",
      "[0.00206925+0.j 0.00199445+0.j 0.00199445+0.j 0.00196952+0.j\n",
      " 0.00204431+0.j 0.00196952+0.j 0.00209418+0.j 0.00206925+0.j\n",
      " 0.00196952+0.j 0.00201938+0.j]\n"
     ]
    }
   ],
   "source": [
    "random_entries = random.sample(loaded_data, 10)\n",
    "\n",
    "for i, (category, filename, quantum_state) in enumerate(random_entries):\n",
    "    print(f\"\\n Entry {i+1}\")\n",
    "    print(f\"Category : {category}\")\n",
    "    print(f\"Filename : {filename}\")\n",
    "    print(f\" Quantum State (Size: {len(quantum_state)}):\")\n",
    "    print(quantum_state[:10])"
   ]
  }
 ],
 "metadata": {
  "kernelspec": {
   "display_name": "Python 3",
   "language": "python",
   "name": "python3"
  },
  "language_info": {
   "codemirror_mode": {
    "name": "ipython",
    "version": 3
   },
   "file_extension": ".py",
   "mimetype": "text/x-python",
   "name": "python",
   "nbconvert_exporter": "python",
   "pygments_lexer": "ipython3",
   "version": "3.13.3"
  }
 },
 "nbformat": 4,
 "nbformat_minor": 5
}
